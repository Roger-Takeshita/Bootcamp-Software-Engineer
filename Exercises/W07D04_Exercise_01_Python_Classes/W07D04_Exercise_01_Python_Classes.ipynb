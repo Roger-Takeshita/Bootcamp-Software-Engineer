{
 "cells": [
  {
   "cell_type": "markdown",
   "metadata": {},
   "source": [
    "# `__init__`\n",
    "\n",
    "* Only if I want to set attributes to the class\n",
    "* I don't need to declare if I don't need any attributes"
   ]
  },
  {
   "cell_type": "markdown",
   "metadata": {},
   "source": [
    "class Dog():\n",
    "    def __init__(self, name, age = 1):\n",
    "        self.name = name\n",
    "        self.age = age\n",
    "\n",
    "    def bark(self):\n",
    "        print(f'{self.name} says woof!')\n",
    "\n",
    "dog = Dog('Yumi', 2)\n",
    "dog.bark()\n",
    "print(dog.name, dog.age)\n",
    "print(dog)"
   ]
  },
  {
   "cell_type": "markdown",
   "metadata": {},
   "source": [
    "# Overriding Methods\n",
    "\n",
    "* We can change this behavior by overriding the `__str__` method that the print function calls automatically to obtain the string to print out.\n",
    "\n",
    "`__str__`\n",
    "`__repr__`"
   ]
  },
  {
   "cell_type": "code",
   "execution_count": 1,
   "metadata": {},
   "outputs": [
    {
     "name": "stdout",
     "output_type": "stream",
     "text": [
      "Yumi says woof!\n",
      "Yumi 2\n"
     ]
    }
   ],
   "source": [
    "class Dog():\n",
    "    def __init__(self, name, age = 1):\n",
    "        self.name = name\n",
    "        self.age = age\n",
    "\n",
    "    def bark(self):\n",
    "        print(f'{self.name} says woof!')\n",
    "    \n",
    "    def __str__(self):\n",
    "        return f'Dog named {self.name} is {self.age} years old'\n",
    "    \n",
    "dog = Dog('Yumi', 2)\n",
    "dog.bark()\n",
    "print(dog.name, dog.age)\n",
    "print(dog)"
   ]
  },
  {
   "cell_type": "code",
   "execution_count": 2,
   "metadata": {},
   "outputs": [
    {
     "name": "stdout",
     "output_type": "stream",
     "text": [
      "False\n",
      "True\n",
      "X99Y Boeing 747-B\n",
      "TS123 is a Tesla model Model S\n"
     ]
    }
   ],
   "source": [
    "class Vehicle():\n",
    "    def __init__(self, vin, make, model, running = False):\n",
    "        self.vin = vin\n",
    "        self.make = make\n",
    "        self.model = model\n",
    "        self.running = running\n",
    "        \n",
    "    def start(self):\n",
    "        self.running = True\n",
    "        \n",
    "    def stop(self):\n",
    "        self.running = False\n",
    "        \n",
    "    def __str__(self):\n",
    "        return f\"{self.vin} is a {self.make} model {self.model}\"\n",
    "        \n",
    "car = Vehicle('TS123', 'Tesla', 'Model S')\n",
    "print(car.running)\n",
    "\n",
    "car.start()\n",
    "print(car.running)\n",
    "\n",
    "plane = Vehicle('X99Y', 'Boeing', '747-B')\n",
    "print(plane.vin, plane.make, plane.model)\n",
    "\n",
    "print(car)"
   ]
  },
  {
   "cell_type": "markdown",
   "metadata": {},
   "source": [
    "# Class vs. Instance Members\n",
    "\n",
    "* Class attribute\n",
    "    * Example: next_id"
   ]
  },
  {
   "cell_type": "code",
   "execution_count": 3,
   "metadata": {},
   "outputs": [
    {
     "name": "stdout",
     "output_type": "stream",
     "text": [
      "Dog (1) named Spot is 8 years old\n",
      "Dog (2) named Lassie is 0 years old\n",
      "Dog (3) named Yumi is 2 years old\n",
      "\n",
      "Lassie 4\n",
      "Yumi 4\n",
      "\n",
      "Lassie 2\n",
      "Yumi 3\n",
      "\n",
      "3\n",
      "3\n"
     ]
    }
   ],
   "source": [
    "class Dog():\n",
    "    # class attribute\n",
    "    next_id = 1\n",
    "\n",
    "    # updated __init__\n",
    "    def __init__(self, name, age = 0):\n",
    "        self.name = name\n",
    "        self.age = age\n",
    "        self.id = Dog.next_id\n",
    "        Dog.next_id += 1\n",
    "\n",
    "    def bark(self):\n",
    "        print(f'{self.name} says woof!')\n",
    "\n",
    "    # updated __str__\n",
    "    def __str__(self):\n",
    "        return f'Dog ({self.id}) named {self.name} is {self.age} years old'\n",
    "    \n",
    "    @classmethod\n",
    "    def get_total_dogs(cls):\n",
    "        # cls represents the Dog class\n",
    "        return cls.next_id - 1\n",
    "\n",
    "spot = Dog('Spot', 8)\n",
    "print(spot)\n",
    "\n",
    "pup = Dog('Lassie')\n",
    "print(pup)\n",
    "\n",
    "yumi = Dog('Yumi', 2)\n",
    "print(yumi)\n",
    "print()\n",
    "\n",
    "print(f'{pup.name} {pup.next_id}')\n",
    "print(f'{yumi.name} {yumi.next_id}')\n",
    "print()\n",
    "\n",
    "print(f'{pup.name} {pup.id}')\n",
    "print(f'{yumi.name} {yumi.id}')\n",
    "print()\n",
    "\n",
    "print(Dog.get_total_dogs())\n",
    "print(yumi.get_total_dogs())"
   ]
  },
  {
   "cell_type": "code",
   "execution_count": 5,
   "metadata": {},
   "outputs": [],
   "source": [
    "# Pass in superclass as argument\n",
    "class ShowDog(Dog):\n",
    "    # Add additional parameters AFTER those in the superclass\n",
    "    def __init__(self, name, age = 0, total_earnings = 0):\n",
    "        # Always call the superclass's __init__ first\n",
    "        Dog.__init__(self, name, age)\n",
    "        # Now add any new attributes\n",
    "        self.total_earnings = total_earnings\n",
    "  \n",
    "    # Add additional methods\n",
    "    def add_prize_money(self, amount):\n",
    "        self.total_earnings += amount"
   ]
  },
  {
   "cell_type": "code",
   "execution_count": null,
   "metadata": {},
   "outputs": [],
   "source": []
  }
 ],
 "metadata": {
  "kernelspec": {
   "display_name": "Python 3",
   "language": "python",
   "name": "python3"
  },
  "language_info": {
   "codemirror_mode": {
    "name": "ipython",
    "version": 3
   },
   "file_extension": ".py",
   "mimetype": "text/x-python",
   "name": "python",
   "nbconvert_exporter": "python",
   "pygments_lexer": "ipython3",
   "version": "3.7.5"
  }
 },
 "nbformat": 4,
 "nbformat_minor": 2
}
